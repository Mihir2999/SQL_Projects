{
 "cells": [
  {
   "cell_type": "code",
   "execution_count": 3,
   "metadata": {},
   "outputs": [],
   "source": [
    "import pandas as pd\n",
    "import pyodbc"
   ]
  },
  {
   "cell_type": "code",
   "execution_count": 21,
   "metadata": {},
   "outputs": [],
   "source": [
    "conn = pyodbc.connect(\n",
    "    \"DRIVER={MySQL ODBC 8.0 Unicode Driver};\"\n",
    "    \"SERVER=localhost;\"\n",
    "    \"PORT=3306;\"\n",
    "    \"DATABASE=sql_project_1;\"\n",
    "    \"USER=root;\"\n",
    "    \"PASSWORD=Mymummy1@;\"\n",
    "    \"OPTION=3;\"\n",
    ")"
   ]
  },
  {
   "cell_type": "code",
   "execution_count": 22,
   "metadata": {},
   "outputs": [
    {
     "name": "stderr",
     "output_type": "stream",
     "text": [
      "c:\\Users\\Admin\\anaconda3\\lib\\site-packages\\pandas\\io\\sql.py:761: UserWarning: pandas only support SQLAlchemy connectable(engine/connection) ordatabase string URI or sqlite3 DBAPI2 connectionother DBAPI2 objects are not tested, please consider using SQLAlchemy\n",
      "  warnings.warn(\n"
     ]
    }
   ],
   "source": [
    "query = \"SELECT * FROM retail_sales\"\n",
    "basic = pd.read_sql(query, conn)"
   ]
  },
  {
   "cell_type": "code",
   "execution_count": 23,
   "metadata": {},
   "outputs": [
    {
     "data": {
      "text/plain": [
       "564"
      ]
     },
     "execution_count": 23,
     "metadata": {},
     "output_type": "execute_result"
    }
   ],
   "source": [
    "len(basic)"
   ]
  },
  {
   "cell_type": "code",
   "execution_count": null,
   "metadata": {},
   "outputs": [
    {
     "name": "stderr",
     "output_type": "stream",
     "text": [
      "c:\\Users\\Admin\\anaconda3\\lib\\site-packages\\pandas\\io\\sql.py:761: UserWarning: pandas only support SQLAlchemy connectable(engine/connection) ordatabase string URI or sqlite3 DBAPI2 connectionother DBAPI2 objects are not tested, please consider using SQLAlchemy\n",
      "  warnings.warn(\n"
     ]
    },
    {
     "data": {
      "text/html": [
       "<div>\n",
       "<style scoped>\n",
       "    .dataframe tbody tr th:only-of-type {\n",
       "        vertical-align: middle;\n",
       "    }\n",
       "\n",
       "    .dataframe tbody tr th {\n",
       "        vertical-align: top;\n",
       "    }\n",
       "\n",
       "    .dataframe thead th {\n",
       "        text-align: right;\n",
       "    }\n",
       "</style>\n",
       "<table border=\"1\" class=\"dataframe\">\n",
       "  <thead>\n",
       "    <tr style=\"text-align: right;\">\n",
       "      <th></th>\n",
       "      <th>COUNT(*)</th>\n",
       "    </tr>\n",
       "  </thead>\n",
       "  <tbody>\n",
       "    <tr>\n",
       "      <th>0</th>\n",
       "      <td>564</td>\n",
       "    </tr>\n",
       "  </tbody>\n",
       "</table>\n",
       "</div>"
      ],
      "text/plain": [
       "   COUNT(*)\n",
       "0       564"
      ]
     },
     "execution_count": 24,
     "metadata": {},
     "output_type": "execute_result"
    }
   ],
   "source": [
    "q2 = \"\"\" \n",
    "SELECT COUNT(*) FROM retail_sales;\n",
    "\"\"\"\n",
    "\n",
    "pd.read_sql(q2, conn)"
   ]
  },
  {
   "cell_type": "code",
   "execution_count": 29,
   "metadata": {},
   "outputs": [
    {
     "name": "stderr",
     "output_type": "stream",
     "text": [
      "c:\\Users\\Admin\\anaconda3\\lib\\site-packages\\pandas\\io\\sql.py:761: UserWarning: pandas only support SQLAlchemy connectable(engine/connection) ordatabase string URI or sqlite3 DBAPI2 connectionother DBAPI2 objects are not tested, please consider using SQLAlchemy\n",
      "  warnings.warn(\n"
     ]
    },
    {
     "data": {
      "text/html": [
       "<div>\n",
       "<style scoped>\n",
       "    .dataframe tbody tr th:only-of-type {\n",
       "        vertical-align: middle;\n",
       "    }\n",
       "\n",
       "    .dataframe tbody tr th {\n",
       "        vertical-align: top;\n",
       "    }\n",
       "\n",
       "    .dataframe thead th {\n",
       "        text-align: right;\n",
       "    }\n",
       "</style>\n",
       "<table border=\"1\" class=\"dataframe\">\n",
       "  <thead>\n",
       "    <tr style=\"text-align: right;\">\n",
       "      <th></th>\n",
       "      <th>transactions_id</th>\n",
       "      <th>sale_date</th>\n",
       "      <th>sale_time</th>\n",
       "      <th>customer_id</th>\n",
       "      <th>gender</th>\n",
       "      <th>age</th>\n",
       "      <th>category</th>\n",
       "      <th>quantity</th>\n",
       "      <th>price_per_unit</th>\n",
       "      <th>cogs</th>\n",
       "      <th>total_sale</th>\n",
       "    </tr>\n",
       "  </thead>\n",
       "  <tbody>\n",
       "    <tr>\n",
       "      <th>0</th>\n",
       "      <td>150</td>\n",
       "      <td>2022-04-13</td>\n",
       "      <td>08:25:00</td>\n",
       "      <td>89</td>\n",
       "      <td>Female</td>\n",
       "      <td>None</td>\n",
       "      <td>Electronics</td>\n",
       "      <td>4</td>\n",
       "      <td>30.0</td>\n",
       "      <td>16.20</td>\n",
       "      <td>120.0</td>\n",
       "    </tr>\n",
       "    <tr>\n",
       "      <th>1</th>\n",
       "      <td>432</td>\n",
       "      <td>2022-03-10</td>\n",
       "      <td>11:31:00</td>\n",
       "      <td>17</td>\n",
       "      <td>Female</td>\n",
       "      <td>None</td>\n",
       "      <td>Electronics</td>\n",
       "      <td>2</td>\n",
       "      <td>500.0</td>\n",
       "      <td>190.00</td>\n",
       "      <td>1000.0</td>\n",
       "    </tr>\n",
       "    <tr>\n",
       "      <th>2</th>\n",
       "      <td>797</td>\n",
       "      <td>2022-09-16</td>\n",
       "      <td>06:38:00</td>\n",
       "      <td>116</td>\n",
       "      <td>Male</td>\n",
       "      <td>None</td>\n",
       "      <td>Clothing</td>\n",
       "      <td>3</td>\n",
       "      <td>25.0</td>\n",
       "      <td>10.75</td>\n",
       "      <td>75.0</td>\n",
       "    </tr>\n",
       "    <tr>\n",
       "      <th>3</th>\n",
       "      <td>845</td>\n",
       "      <td>2022-10-27</td>\n",
       "      <td>10:12:00</td>\n",
       "      <td>25</td>\n",
       "      <td>Male</td>\n",
       "      <td>None</td>\n",
       "      <td>Clothing</td>\n",
       "      <td>1</td>\n",
       "      <td>500.0</td>\n",
       "      <td>145.00</td>\n",
       "      <td>500.0</td>\n",
       "    </tr>\n",
       "    <tr>\n",
       "      <th>4</th>\n",
       "      <td>921</td>\n",
       "      <td>2022-09-28</td>\n",
       "      <td>09:34:00</td>\n",
       "      <td>101</td>\n",
       "      <td>Male</td>\n",
       "      <td>None</td>\n",
       "      <td>Electronics</td>\n",
       "      <td>3</td>\n",
       "      <td>25.0</td>\n",
       "      <td>8.00</td>\n",
       "      <td>75.0</td>\n",
       "    </tr>\n",
       "    <tr>\n",
       "      <th>5</th>\n",
       "      <td>1150</td>\n",
       "      <td>2022-08-22</td>\n",
       "      <td>10:04:00</td>\n",
       "      <td>77</td>\n",
       "      <td>Female</td>\n",
       "      <td>None</td>\n",
       "      <td>Electronics</td>\n",
       "      <td>4</td>\n",
       "      <td>30.0</td>\n",
       "      <td>10.20</td>\n",
       "      <td>120.0</td>\n",
       "    </tr>\n",
       "    <tr>\n",
       "      <th>6</th>\n",
       "      <td>1367</td>\n",
       "      <td>2022-04-15</td>\n",
       "      <td>11:38:00</td>\n",
       "      <td>16</td>\n",
       "      <td>Female</td>\n",
       "      <td>None</td>\n",
       "      <td>Electronics</td>\n",
       "      <td>1</td>\n",
       "      <td>50.0</td>\n",
       "      <td>15.50</td>\n",
       "      <td>50.0</td>\n",
       "    </tr>\n",
       "    <tr>\n",
       "      <th>7</th>\n",
       "      <td>1391</td>\n",
       "      <td>2022-03-01</td>\n",
       "      <td>11:29:00</td>\n",
       "      <td>130</td>\n",
       "      <td>Male</td>\n",
       "      <td>None</td>\n",
       "      <td>Beauty</td>\n",
       "      <td>2</td>\n",
       "      <td>25.0</td>\n",
       "      <td>9.25</td>\n",
       "      <td>50.0</td>\n",
       "    </tr>\n",
       "    <tr>\n",
       "      <th>8</th>\n",
       "      <td>1432</td>\n",
       "      <td>2022-12-25</td>\n",
       "      <td>06:24:00</td>\n",
       "      <td>67</td>\n",
       "      <td>Female</td>\n",
       "      <td>None</td>\n",
       "      <td>Electronics</td>\n",
       "      <td>2</td>\n",
       "      <td>500.0</td>\n",
       "      <td>245.00</td>\n",
       "      <td>1000.0</td>\n",
       "    </tr>\n",
       "    <tr>\n",
       "      <th>9</th>\n",
       "      <td>1845</td>\n",
       "      <td>2022-05-24</td>\n",
       "      <td>07:06:00</td>\n",
       "      <td>94</td>\n",
       "      <td>Male</td>\n",
       "      <td>None</td>\n",
       "      <td>Clothing</td>\n",
       "      <td>1</td>\n",
       "      <td>500.0</td>\n",
       "      <td>185.00</td>\n",
       "      <td>500.0</td>\n",
       "    </tr>\n",
       "  </tbody>\n",
       "</table>\n",
       "</div>"
      ],
      "text/plain": [
       "   transactions_id   sale_date sale_time  customer_id  gender   age  \\\n",
       "0              150  2022-04-13  08:25:00           89  Female  None   \n",
       "1              432  2022-03-10  11:31:00           17  Female  None   \n",
       "2              797  2022-09-16  06:38:00          116    Male  None   \n",
       "3              845  2022-10-27  10:12:00           25    Male  None   \n",
       "4              921  2022-09-28  09:34:00          101    Male  None   \n",
       "5             1150  2022-08-22  10:04:00           77  Female  None   \n",
       "6             1367  2022-04-15  11:38:00           16  Female  None   \n",
       "7             1391  2022-03-01  11:29:00          130    Male  None   \n",
       "8             1432  2022-12-25  06:24:00           67  Female  None   \n",
       "9             1845  2022-05-24  07:06:00           94    Male  None   \n",
       "\n",
       "      category  quantity  price_per_unit    cogs  total_sale  \n",
       "0  Electronics         4            30.0   16.20       120.0  \n",
       "1  Electronics         2           500.0  190.00      1000.0  \n",
       "2     Clothing         3            25.0   10.75        75.0  \n",
       "3     Clothing         1           500.0  145.00       500.0  \n",
       "4  Electronics         3            25.0    8.00        75.0  \n",
       "5  Electronics         4            30.0   10.20       120.0  \n",
       "6  Electronics         1            50.0   15.50        50.0  \n",
       "7       Beauty         2            25.0    9.25        50.0  \n",
       "8  Electronics         2           500.0  245.00      1000.0  \n",
       "9     Clothing         1           500.0  185.00       500.0  "
      ]
     },
     "execution_count": 29,
     "metadata": {},
     "output_type": "execute_result"
    }
   ],
   "source": [
    "q3 = \"\"\" \n",
    "SELECT * FROM retail_sales\n",
    "WHERE age IS NULL;\n",
    "\"\"\"\n",
    "\n",
    "pd.read_sql(q3, conn)"
   ]
  },
  {
   "cell_type": "code",
   "execution_count": null,
   "metadata": {},
   "outputs": [],
   "source": []
  }
 ],
 "metadata": {
  "kernelspec": {
   "display_name": "base",
   "language": "python",
   "name": "python3"
  },
  "language_info": {
   "codemirror_mode": {
    "name": "ipython",
    "version": 3
   },
   "file_extension": ".py",
   "mimetype": "text/x-python",
   "name": "python",
   "nbconvert_exporter": "python",
   "pygments_lexer": "ipython3",
   "version": "3.9.12"
  }
 },
 "nbformat": 4,
 "nbformat_minor": 2
}
