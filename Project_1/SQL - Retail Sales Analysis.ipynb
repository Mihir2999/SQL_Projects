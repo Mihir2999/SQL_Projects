{
 "cells": [
  {
   "cell_type": "markdown",
   "metadata": {},
   "source": [
    "### Loading the libraries"
   ]
  },
  {
   "cell_type": "code",
   "execution_count": 137,
   "metadata": {},
   "outputs": [],
   "source": [
    "import pandas as pd\n",
    "import pyodbc\n",
    "import warnings\n",
    "warnings.simplefilter(\"ignore\", UserWarning)\n",
    "\n",
    "import os\n",
    "from dotenv import load_dotenv\n",
    "load_dotenv()\n",
    "\n",
    "from sqlalchemy import create_engine, text\n",
    "import sqlalchemy\n"
   ]
  },
  {
   "cell_type": "markdown",
   "metadata": {},
   "source": [
    "### Setting up the Database connection with MySQL"
   ]
  },
  {
   "cell_type": "code",
   "execution_count": 146,
   "metadata": {},
   "outputs": [],
   "source": [
    "conn = pyodbc.connect(\n",
    "    \"DRIVER={MySQL ODBC 8.0 Unicode Driver};\"\n",
    "    f\"SERVER={os.getenv('server')};\"\n",
    "    f\"PORT={os.getenv('port')};\"\n",
    "    f\"DATABASE={os.getenv('database')};\"\n",
    "    f\"USER={os.getenv('user')};\"\n",
    "    f\"PASSWORD={os.getenv('password')};\"\n",
    "    \"OPTION=3;\"\n",
    ")\n",
    "\n",
    "#conn.close()"
   ]
  },
  {
   "cell_type": "markdown",
   "metadata": {},
   "source": [
    "#### Testing the DB connection"
   ]
  },
  {
   "cell_type": "code",
   "execution_count": 148,
   "metadata": {},
   "outputs": [],
   "source": [
    "basic_query = \"SELECT * FROM retail_sales\"\n",
    "retail_sales = pd.read_sql(basic_query, conn)"
   ]
  },
  {
   "cell_type": "code",
   "execution_count": 150,
   "metadata": {},
   "outputs": [
    {
     "data": {
      "text/plain": [
       "(2000,\n",
       "    transactions_id   sale_date sale_time  customer_id  gender   age  \\\n",
       " 0                1  2022-12-16  19:10:00           50    Male  34.0   \n",
       " 1                2  2022-06-24  10:07:00          104  Female  26.0   \n",
       " 2                3  2022-06-14  07:08:00          114    Male  50.0   \n",
       " 3                4  2023-08-27  18:12:00            3    Male  37.0   \n",
       " 4                5  2023-09-05  22:10:00            3    Male  30.0   \n",
       " \n",
       "       category  quantity  price_per_unit   cogs  total_sale  \n",
       " 0       Beauty       3.0            50.0   16.0       150.0  \n",
       " 1     Clothing       2.0           500.0  135.0      1000.0  \n",
       " 2  Electronics       1.0            30.0    8.1        30.0  \n",
       " 3     Clothing       1.0           500.0  200.0       500.0  \n",
       " 4       Beauty       2.0            50.0   24.0       100.0  )"
      ]
     },
     "execution_count": 150,
     "metadata": {},
     "output_type": "execute_result"
    }
   ],
   "source": [
    "len(retail_sales), retail_sales.head(5)"
   ]
  },
  {
   "cell_type": "code",
   "execution_count": 154,
   "metadata": {},
   "outputs": [],
   "source": [
    "### Trying SQLAlchemy\n",
    "# # Define MySQL Connection String\n",
    "# db_user = os.getenv(\"user\")\n",
    "# db_password = os.getenv(\"password\")\n",
    "# db_host = os.getenv('server')  # Change to your MySQL server if needed\n",
    "# db_port = os.getenv('port')  # Default MySQL port\n",
    "# db_name = os.getenv('database')  # Change this to your desired database name\n",
    "\n",
    "# # Create SQLAlchemy Engine\n",
    "# engine = create_engine(f\"mysql+pymysql://{db_user}:{db_password}@{db_host}:{db_port}/{db_name}\")\n",
    "\n",
    "# # Test connection\n",
    "# with engine.connect() as conn:\n",
    "#     print(\"✅ Connected to MySQL successfully!\")\n",
    "\n",
    "# #Testing connection using pymysql \n",
    "# conn = pymysql.connect(db='sql_project_1', user='root', passwd='Mymummy1@', host='localhost', port=3306)\n",
    "# conn.close()"
   ]
  },
  {
   "cell_type": "markdown",
   "metadata": {},
   "source": [
    "### Exploratory Data Analysis"
   ]
  },
  {
   "cell_type": "markdown",
   "metadata": {},
   "source": [
    "#### Finding the number of rows and columns in the SQL dataset"
   ]
  },
  {
   "cell_type": "code",
   "execution_count": 165,
   "metadata": {},
   "outputs": [
    {
     "data": {
      "text/html": [
       "<div>\n",
       "<style scoped>\n",
       "    .dataframe tbody tr th:only-of-type {\n",
       "        vertical-align: middle;\n",
       "    }\n",
       "\n",
       "    .dataframe tbody tr th {\n",
       "        vertical-align: top;\n",
       "    }\n",
       "\n",
       "    .dataframe thead th {\n",
       "        text-align: right;\n",
       "    }\n",
       "</style>\n",
       "<table border=\"1\" class=\"dataframe\">\n",
       "  <thead>\n",
       "    <tr style=\"text-align: right;\">\n",
       "      <th></th>\n",
       "      <th>total_transactions</th>\n",
       "    </tr>\n",
       "  </thead>\n",
       "  <tbody>\n",
       "    <tr>\n",
       "      <th>0</th>\n",
       "      <td>2000</td>\n",
       "    </tr>\n",
       "  </tbody>\n",
       "</table>\n",
       "</div>"
      ],
      "text/plain": [
       "   total_transactions\n",
       "0                2000"
      ]
     },
     "execution_count": 165,
     "metadata": {},
     "output_type": "execute_result"
    }
   ],
   "source": [
    "q1 = \"\"\" \n",
    "SELECT COUNT(*) as total_transactions FROM retail_sales ;\n",
    "\"\"\"\n",
    "\n",
    "pd.read_sql(q1, conn)"
   ]
  },
  {
   "cell_type": "code",
   "execution_count": 166,
   "metadata": {},
   "outputs": [
    {
     "data": {
      "text/html": [
       "<div>\n",
       "<style scoped>\n",
       "    .dataframe tbody tr th:only-of-type {\n",
       "        vertical-align: middle;\n",
       "    }\n",
       "\n",
       "    .dataframe tbody tr th {\n",
       "        vertical-align: top;\n",
       "    }\n",
       "\n",
       "    .dataframe thead th {\n",
       "        text-align: right;\n",
       "    }\n",
       "</style>\n",
       "<table border=\"1\" class=\"dataframe\">\n",
       "  <thead>\n",
       "    <tr style=\"text-align: right;\">\n",
       "      <th></th>\n",
       "      <th>column_count</th>\n",
       "    </tr>\n",
       "  </thead>\n",
       "  <tbody>\n",
       "    <tr>\n",
       "      <th>0</th>\n",
       "      <td>11</td>\n",
       "    </tr>\n",
       "  </tbody>\n",
       "</table>\n",
       "</div>"
      ],
      "text/plain": [
       "   column_count\n",
       "0            11"
      ]
     },
     "execution_count": 166,
     "metadata": {},
     "output_type": "execute_result"
    }
   ],
   "source": [
    "q2 = \"\"\" \n",
    "SELECT COUNT(*) AS column_count\n",
    "FROM INFORMATION_SCHEMA.COLUMNS\n",
    "WHERE TABLE_NAME = 'retail_sales'\n",
    "\"\"\"\n",
    "pd.read_sql(q2, conn)"
   ]
  },
  {
   "cell_type": "code",
   "execution_count": null,
   "metadata": {},
   "outputs": [],
   "source": []
  }
 ],
 "metadata": {
  "kernelspec": {
   "display_name": "base",
   "language": "python",
   "name": "python3"
  },
  "language_info": {
   "codemirror_mode": {
    "name": "ipython",
    "version": 3
   },
   "file_extension": ".py",
   "mimetype": "text/x-python",
   "name": "python",
   "nbconvert_exporter": "python",
   "pygments_lexer": "ipython3",
   "version": "3.9.12"
  }
 },
 "nbformat": 4,
 "nbformat_minor": 2
}
