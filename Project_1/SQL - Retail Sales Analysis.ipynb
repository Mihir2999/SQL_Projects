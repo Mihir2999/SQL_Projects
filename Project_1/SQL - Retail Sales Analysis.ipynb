{
 "cells": [
  {
   "cell_type": "markdown",
   "metadata": {},
   "source": [
    "### Loading the libraries"
   ]
  },
  {
   "cell_type": "code",
   "execution_count": 137,
   "metadata": {},
   "outputs": [],
   "source": [
    "import pandas as pd\n",
    "import pyodbc\n",
    "import warnings\n",
    "warnings.simplefilter(\"ignore\", UserWarning)\n",
    "\n",
    "import os\n",
    "from dotenv import load_dotenv\n",
    "load_dotenv()\n",
    "\n",
    "from sqlalchemy import create_engine, text\n",
    "import sqlalchemy\n"
   ]
  },
  {
   "cell_type": "markdown",
   "metadata": {},
   "source": [
    "### Setting up the Database connection with MySQL"
   ]
  },
  {
   "cell_type": "code",
   "execution_count": 140,
   "metadata": {},
   "outputs": [
    {
     "data": {
      "text/plain": [
       "'root'"
      ]
     },
     "execution_count": 140,
     "metadata": {},
     "output_type": "execute_result"
    }
   ],
   "source": [
    "os.getenv(\"user\")"
   ]
  },
  {
   "cell_type": "code",
   "execution_count": 146,
   "metadata": {},
   "outputs": [],
   "source": [
    "conn = pyodbc.connect(\n",
    "    \"DRIVER={MySQL ODBC 8.0 Unicode Driver};\"\n",
    "    f\"SERVER={os.getenv('server')};\"\n",
    "    f\"PORT={os.getenv('port')};\"\n",
    "    f\"DATABASE={os.getenv('database')};\"\n",
    "    f\"USER={os.getenv('user')};\"\n",
    "    f\"PASSWORD={os.getenv('password')};\"\n",
    "    \"OPTION=3;\"\n",
    ")\n",
    "\n",
    "#conn.close()"
   ]
  },
  {
   "cell_type": "markdown",
   "metadata": {},
   "source": [
    "#### Testing the DB connection"
   ]
  },
  {
   "cell_type": "code",
   "execution_count": 133,
   "metadata": {},
   "outputs": [
    {
     "data": {
      "text/html": [
       "<div>\n",
       "<style scoped>\n",
       "    .dataframe tbody tr th:only-of-type {\n",
       "        vertical-align: middle;\n",
       "    }\n",
       "\n",
       "    .dataframe tbody tr th {\n",
       "        vertical-align: top;\n",
       "    }\n",
       "\n",
       "    .dataframe thead th {\n",
       "        text-align: right;\n",
       "    }\n",
       "</style>\n",
       "<table border=\"1\" class=\"dataframe\">\n",
       "  <thead>\n",
       "    <tr style=\"text-align: right;\">\n",
       "      <th></th>\n",
       "      <th>transactions_id</th>\n",
       "      <th>sale_date</th>\n",
       "      <th>sale_time</th>\n",
       "      <th>customer_id</th>\n",
       "      <th>gender</th>\n",
       "      <th>age</th>\n",
       "      <th>category</th>\n",
       "      <th>quantity</th>\n",
       "      <th>price_per_unit</th>\n",
       "      <th>cogs</th>\n",
       "      <th>total_sale</th>\n",
       "    </tr>\n",
       "  </thead>\n",
       "  <tbody>\n",
       "    <tr>\n",
       "      <th>0</th>\n",
       "      <td>1</td>\n",
       "      <td>2022-12-16</td>\n",
       "      <td>19:10:00</td>\n",
       "      <td>50</td>\n",
       "      <td>Male</td>\n",
       "      <td>34.0</td>\n",
       "      <td>Beauty</td>\n",
       "      <td>3.0</td>\n",
       "      <td>50.0</td>\n",
       "      <td>16.0</td>\n",
       "      <td>150.0</td>\n",
       "    </tr>\n",
       "    <tr>\n",
       "      <th>1</th>\n",
       "      <td>2</td>\n",
       "      <td>2022-06-24</td>\n",
       "      <td>10:07:00</td>\n",
       "      <td>104</td>\n",
       "      <td>Female</td>\n",
       "      <td>26.0</td>\n",
       "      <td>Clothing</td>\n",
       "      <td>2.0</td>\n",
       "      <td>500.0</td>\n",
       "      <td>135.0</td>\n",
       "      <td>1000.0</td>\n",
       "    </tr>\n",
       "    <tr>\n",
       "      <th>2</th>\n",
       "      <td>3</td>\n",
       "      <td>2022-06-14</td>\n",
       "      <td>07:08:00</td>\n",
       "      <td>114</td>\n",
       "      <td>Male</td>\n",
       "      <td>50.0</td>\n",
       "      <td>Electronics</td>\n",
       "      <td>1.0</td>\n",
       "      <td>30.0</td>\n",
       "      <td>8.1</td>\n",
       "      <td>30.0</td>\n",
       "    </tr>\n",
       "    <tr>\n",
       "      <th>3</th>\n",
       "      <td>4</td>\n",
       "      <td>2023-08-27</td>\n",
       "      <td>18:12:00</td>\n",
       "      <td>3</td>\n",
       "      <td>Male</td>\n",
       "      <td>37.0</td>\n",
       "      <td>Clothing</td>\n",
       "      <td>1.0</td>\n",
       "      <td>500.0</td>\n",
       "      <td>200.0</td>\n",
       "      <td>500.0</td>\n",
       "    </tr>\n",
       "    <tr>\n",
       "      <th>4</th>\n",
       "      <td>5</td>\n",
       "      <td>2023-09-05</td>\n",
       "      <td>22:10:00</td>\n",
       "      <td>3</td>\n",
       "      <td>Male</td>\n",
       "      <td>30.0</td>\n",
       "      <td>Beauty</td>\n",
       "      <td>2.0</td>\n",
       "      <td>50.0</td>\n",
       "      <td>24.0</td>\n",
       "      <td>100.0</td>\n",
       "    </tr>\n",
       "    <tr>\n",
       "      <th>...</th>\n",
       "      <td>...</td>\n",
       "      <td>...</td>\n",
       "      <td>...</td>\n",
       "      <td>...</td>\n",
       "      <td>...</td>\n",
       "      <td>...</td>\n",
       "      <td>...</td>\n",
       "      <td>...</td>\n",
       "      <td>...</td>\n",
       "      <td>...</td>\n",
       "      <td>...</td>\n",
       "    </tr>\n",
       "    <tr>\n",
       "      <th>1995</th>\n",
       "      <td>1996</td>\n",
       "      <td>2023-12-07</td>\n",
       "      <td>18:49:00</td>\n",
       "      <td>2</td>\n",
       "      <td>Male</td>\n",
       "      <td>62.0</td>\n",
       "      <td>Clothing</td>\n",
       "      <td>1.0</td>\n",
       "      <td>50.0</td>\n",
       "      <td>25.0</td>\n",
       "      <td>50.0</td>\n",
       "    </tr>\n",
       "    <tr>\n",
       "      <th>1996</th>\n",
       "      <td>1997</td>\n",
       "      <td>2023-10-29</td>\n",
       "      <td>21:09:00</td>\n",
       "      <td>99</td>\n",
       "      <td>Male</td>\n",
       "      <td>52.0</td>\n",
       "      <td>Beauty</td>\n",
       "      <td>3.0</td>\n",
       "      <td>30.0</td>\n",
       "      <td>10.2</td>\n",
       "      <td>90.0</td>\n",
       "    </tr>\n",
       "    <tr>\n",
       "      <th>1997</th>\n",
       "      <td>1998</td>\n",
       "      <td>2023-10-20</td>\n",
       "      <td>19:53:00</td>\n",
       "      <td>90</td>\n",
       "      <td>Female</td>\n",
       "      <td>23.0</td>\n",
       "      <td>Beauty</td>\n",
       "      <td>4.0</td>\n",
       "      <td>25.0</td>\n",
       "      <td>24.0</td>\n",
       "      <td>100.0</td>\n",
       "    </tr>\n",
       "    <tr>\n",
       "      <th>1998</th>\n",
       "      <td>1999</td>\n",
       "      <td>2022-11-12</td>\n",
       "      <td>13:06:00</td>\n",
       "      <td>61</td>\n",
       "      <td>Female</td>\n",
       "      <td>36.0</td>\n",
       "      <td>Electronics</td>\n",
       "      <td>3.0</td>\n",
       "      <td>50.0</td>\n",
       "      <td>13.0</td>\n",
       "      <td>150.0</td>\n",
       "    </tr>\n",
       "    <tr>\n",
       "      <th>1999</th>\n",
       "      <td>2000</td>\n",
       "      <td>2023-03-31</td>\n",
       "      <td>06:38:00</td>\n",
       "      <td>4</td>\n",
       "      <td>Male</td>\n",
       "      <td>47.0</td>\n",
       "      <td>Electronics</td>\n",
       "      <td>4.0</td>\n",
       "      <td>30.0</td>\n",
       "      <td>10.8</td>\n",
       "      <td>120.0</td>\n",
       "    </tr>\n",
       "  </tbody>\n",
       "</table>\n",
       "<p>2000 rows × 11 columns</p>\n",
       "</div>"
      ],
      "text/plain": [
       "      transactions_id   sale_date sale_time  customer_id  gender   age  \\\n",
       "0                   1  2022-12-16  19:10:00           50    Male  34.0   \n",
       "1                   2  2022-06-24  10:07:00          104  Female  26.0   \n",
       "2                   3  2022-06-14  07:08:00          114    Male  50.0   \n",
       "3                   4  2023-08-27  18:12:00            3    Male  37.0   \n",
       "4                   5  2023-09-05  22:10:00            3    Male  30.0   \n",
       "...               ...         ...       ...          ...     ...   ...   \n",
       "1995             1996  2023-12-07  18:49:00            2    Male  62.0   \n",
       "1996             1997  2023-10-29  21:09:00           99    Male  52.0   \n",
       "1997             1998  2023-10-20  19:53:00           90  Female  23.0   \n",
       "1998             1999  2022-11-12  13:06:00           61  Female  36.0   \n",
       "1999             2000  2023-03-31  06:38:00            4    Male  47.0   \n",
       "\n",
       "         category  quantity  price_per_unit   cogs  total_sale  \n",
       "0          Beauty       3.0            50.0   16.0       150.0  \n",
       "1        Clothing       2.0           500.0  135.0      1000.0  \n",
       "2     Electronics       1.0            30.0    8.1        30.0  \n",
       "3        Clothing       1.0           500.0  200.0       500.0  \n",
       "4          Beauty       2.0            50.0   24.0       100.0  \n",
       "...           ...       ...             ...    ...         ...  \n",
       "1995     Clothing       1.0            50.0   25.0        50.0  \n",
       "1996       Beauty       3.0            30.0   10.2        90.0  \n",
       "1997       Beauty       4.0            25.0   24.0       100.0  \n",
       "1998  Electronics       3.0            50.0   13.0       150.0  \n",
       "1999  Electronics       4.0            30.0   10.8       120.0  \n",
       "\n",
       "[2000 rows x 11 columns]"
      ]
     },
     "execution_count": 133,
     "metadata": {},
     "output_type": "execute_result"
    }
   ],
   "source": [
    "basic_query = \"SELECT * FROM retail_sales\"\n",
    "pd.read_sql(basic_query, conn)"
   ]
  },
  {
   "cell_type": "code",
   "execution_count": 105,
   "metadata": {},
   "outputs": [
    {
     "data": {
      "text/plain": [
       "2000"
      ]
     },
     "execution_count": 105,
     "metadata": {},
     "output_type": "execute_result"
    }
   ],
   "source": [
    "len(basic)"
   ]
  },
  {
   "cell_type": "markdown",
   "metadata": {},
   "source": [
    "### Trying SQLAlchemy"
   ]
  },
  {
   "cell_type": "code",
   "execution_count": 129,
   "metadata": {},
   "outputs": [
    {
     "name": "stdout",
     "output_type": "stream",
     "text": [
      "✅ Connected to MySQL successfully!\n"
     ]
    }
   ],
   "source": [
    "# Define MySQL Connection String\n",
    "db_user = \"root\"\n",
    "db_password = \"Mymummy1%40\"\n",
    "db_host = \"localhost\"  # Change to your MySQL server if needed\n",
    "db_port = \"3306\"  # Default MySQL port\n",
    "db_name = \"sql_project_1\"  # Change this to your desired database name\n",
    "\n",
    "# Create SQLAlchemy Engine\n",
    "engine = create_engine(f\"mysql+pymysql://{db_user}:{db_password}@{db_host}:{db_port}/{db_name}\")\n",
    "\n",
    "# Test connection\n",
    "with engine.connect() as conn:\n",
    "    print(\"✅ Connected to MySQL successfully!\")"
   ]
  },
  {
   "cell_type": "code",
   "execution_count": 125,
   "metadata": {},
   "outputs": [],
   "source": [
    "conn = pymysql.connect(db='sql_project_1', user='root', passwd='Mymummy1@', host='localhost', port=3306)\n",
    "conn.close()"
   ]
  },
  {
   "cell_type": "code",
   "execution_count": 127,
   "metadata": {},
   "outputs": [
    {
     "data": {
      "text/plain": [
       "'mysql+pymysql://root:Mymummy1@@localhost:3306/sql_project_1'"
      ]
     },
     "execution_count": 127,
     "metadata": {},
     "output_type": "execute_result"
    }
   ],
   "source": [
    "f\"mysql+pymysql://{db_user}:{db_password}@{db_host}:{db_port}/{db_name}\""
   ]
  },
  {
   "cell_type": "code",
   "execution_count": null,
   "metadata": {},
   "outputs": [],
   "source": []
  }
 ],
 "metadata": {
  "kernelspec": {
   "display_name": "base",
   "language": "python",
   "name": "python3"
  },
  "language_info": {
   "codemirror_mode": {
    "name": "ipython",
    "version": 3
   },
   "file_extension": ".py",
   "mimetype": "text/x-python",
   "name": "python",
   "nbconvert_exporter": "python",
   "pygments_lexer": "ipython3",
   "version": "3.9.12"
  }
 },
 "nbformat": 4,
 "nbformat_minor": 2
}
